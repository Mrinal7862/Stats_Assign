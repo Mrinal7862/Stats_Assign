{
  "nbformat": 4,
  "nbformat_minor": 0,
  "metadata": {
    "colab": {
      "provenance": [],
      "authorship_tag": "ABX9TyOJOgK2K9Df4wYEeg7Yl2/m",
      "include_colab_link": true
    },
    "kernelspec": {
      "name": "python3",
      "display_name": "Python 3"
    },
    "language_info": {
      "name": "python"
    }
  },
  "cells": [
    {
      "cell_type": "markdown",
      "metadata": {
        "id": "view-in-github",
        "colab_type": "text"
      },
      "source": [
        "<a href=\"https://colab.research.google.com/github/Mrinal7862/Stats_Assign/blob/main/Stats_Assignment.ipynb\" target=\"_parent\"><img src=\"https://colab.research.google.com/assets/colab-badge.svg\" alt=\"Open In Colab\"/></a>"
      ]
    },
    {
      "cell_type": "code",
      "execution_count": null,
      "metadata": {
        "id": "1js9ApQh-F02"
      },
      "outputs": [],
      "source": [
        "import numpy as np\n",
        "import pandas as pd\n",
        "import matplotlib.pyplot as plt\n",
        "import seaborn as sns"
      ]
    },
    {
      "cell_type": "markdown",
      "source": [
        "## Q= Generate a list of 100 integers containing values between 90 to 130 and store it in the variable `int_list`.\n",
        "\n",
        "After generating the list, find the following:\n",
        "\n",
        "  \n",
        "\n",
        "  (i) Write a Python function to calculate the mean of a given list of numbers.\n",
        "\n",
        "Create a function to find the median of a list of numbers.\n",
        "\n",
        "  \n",
        "\n",
        "  (ii) Develop a program to compute the mode of a list of integers.\n",
        "\n",
        "  \n",
        "\n",
        "  (iii) Implement a function to calculate the weighted mean of a list of values and their corresponding weights.\n",
        "\n",
        "  \n",
        "\n",
        "  (iv) Write a Python function to find the geometric mean of a list of positive numbers.\n",
        "\n",
        "  \n",
        "\n",
        "  (v) Create a program to calculate the harmonic mean of a list of values.\n",
        "\n",
        "  \n",
        "\n",
        "  (vi) Build a function to determine the midrange of a list of numbers (average of the minimum and maximum).\n",
        "\n",
        "  \n",
        "\n",
        "  (vii) Implement a Python program to find the trimmed mean of a list, excluding a certain percentage of\n",
        "outliers."
      ],
      "metadata": {
        "id": "vVc5_7Qm-Waj"
      }
    },
    {
      "cell_type": "code",
      "source": [
        "int_list = np.random.randint(90, 130, 100)"
      ],
      "metadata": {
        "id": "A-qInSVS-Pyy"
      },
      "execution_count": null,
      "outputs": []
    },
    {
      "cell_type": "code",
      "source": [
        "# i) Write a Python function to calculate the mean of a given list of numbers.\n",
        "\n",
        "# Declaring the function for calculating the mean\n",
        "def Calculate_mean(n):\n",
        "    return np.mean(n)\n",
        "\n",
        "\n",
        "print(f\"The given mean of the variable  is : {Calculate_mean(int_list)}\")\n",
        "\n",
        "# Declaring the function for calculating the mean\n",
        "def Calculate_median(n):\n",
        "    return np.median(n)\n",
        "\n",
        "\n",
        "print(f\"The given median of the variable  is : {Calculate_median(int_list)}\")"
      ],
      "metadata": {
        "colab": {
          "base_uri": "https://localhost:8080/"
        },
        "id": "fS6Wl8E9-1gy",
        "outputId": "1de33f12-61ed-43bf-f489-91e5b4b10866"
      },
      "execution_count": null,
      "outputs": [
        {
          "output_type": "stream",
          "name": "stdout",
          "text": [
            "The given mean of the variable  is : 107.64\n",
            "The given median of the variable  is : 104.5\n"
          ]
        }
      ]
    },
    {
      "cell_type": "code",
      "source": [
        "# ii) Develop a program to compute the mode of a list of integers.\n",
        "\n",
        "from scipy import stats\n",
        "\n",
        "def Calculate_mode(n):\n",
        "    return stats.mode(n)\n",
        "\n",
        "print(f\"The mode of the given variable is : \", Calculate_mode(int_list))"
      ],
      "metadata": {
        "colab": {
          "base_uri": "https://localhost:8080/"
        },
        "id": "937D-DJV-2IA",
        "outputId": "61832e81-602a-4554-971f-70ad4353d0f4"
      },
      "execution_count": null,
      "outputs": [
        {
          "output_type": "stream",
          "name": "stdout",
          "text": [
            "The mode of the given variable is :  ModeResult(mode=np.int64(97), count=np.int64(7))\n"
          ]
        }
      ]
    },
    {
      "cell_type": "code",
      "source": [
        "# (iii) Implement a function to calculate the weighted mean of a list of values and their corresponding weights.\n",
        "\n",
        "int_weights = np.random.randint(20, 30, 100)\n",
        "def calculate_weighted_mean(values, weights):\n",
        "  return np.average(values, weights=weights)\n",
        "\n",
        "print(f\"The weighted mean of the given variable is : \", round(calculate_weighted_mean(int_list, int_weights), 2))"
      ],
      "metadata": {
        "colab": {
          "base_uri": "https://localhost:8080/"
        },
        "id": "fRRy3I4eAYMY",
        "outputId": "047f50ef-0a5c-4844-acee-265abf7b6d5d"
      },
      "execution_count": null,
      "outputs": [
        {
          "output_type": "stream",
          "name": "stdout",
          "text": [
            "The weighted mean of the given variable is :  107.45\n"
          ]
        }
      ]
    },
    {
      "cell_type": "code",
      "source": [
        "# (iv) Write a Python function to find the geometric mean of a list of positive numbers.\n",
        "\n",
        "def geometric_mean(n):\n",
        "  return stats.gmean(n)\n",
        "\n",
        "print(f\"The geometric mean of the given variable is : \", round(geometric_mean(int_list), 2))"
      ],
      "metadata": {
        "id": "rG8LCMAnAdju",
        "colab": {
          "base_uri": "https://localhost:8080/"
        },
        "outputId": "23c56296-8c60-4c84-d41e-21cb7762cf70"
      },
      "execution_count": null,
      "outputs": [
        {
          "output_type": "stream",
          "name": "stdout",
          "text": [
            "The geometric mean of the given variable is :  107.01\n"
          ]
        }
      ]
    },
    {
      "cell_type": "code",
      "source": [
        "# (v) Create a program to calculate the harmonic mean of a list of values.\n",
        "\n",
        "def harmonic_mean(n):\n",
        "  return stats.hmean(n)\n",
        "\n",
        "print(f\"The harmonic mean of the given variable is : \", round(harmonic_mean(int_list), 2))"
      ],
      "metadata": {
        "colab": {
          "base_uri": "https://localhost:8080/"
        },
        "id": "OVFV6fBtgI4o",
        "outputId": "ff5df960-180c-4767-ad73-d2ad90a82f81"
      },
      "execution_count": null,
      "outputs": [
        {
          "output_type": "stream",
          "name": "stdout",
          "text": [
            "The harmonic mean of the given variable is :  106.4\n"
          ]
        }
      ]
    },
    {
      "cell_type": "code",
      "source": [
        "# (vi) Build a function to determine the midrange of a list of numbers (average of the minimum and maximum).\n",
        "\n",
        "def midrange(n):\n",
        "  return (np.min(n) + np.max(n))/2\n",
        "\n",
        "print(f\"The midrange of the given variable is : \", round(midrange(int_list), 2))"
      ],
      "metadata": {
        "colab": {
          "base_uri": "https://localhost:8080/"
        },
        "id": "ZxDI_NwAgPzY",
        "outputId": "8be9e66e-c64d-4edd-8b58-08e4dd532bd6"
      },
      "execution_count": null,
      "outputs": [
        {
          "output_type": "stream",
          "name": "stdout",
          "text": [
            "The midrange of the given variable is :  109.5\n"
          ]
        }
      ]
    },
    {
      "cell_type": "code",
      "source": [
        "# vii) Implement a Python program to find the trimmed mean of a list, excluding a certain percentage of outliers.\n",
        "\n",
        "def trimmed_mean(n):\n",
        "  return stats.trim_mean(n, 0.25)\n",
        "\n",
        "print(f\"The trimmed mean of the given variable is : \", trimmed_mean(int_list))\n"
      ],
      "metadata": {
        "colab": {
          "base_uri": "https://localhost:8080/"
        },
        "id": "pbmSy2_9gg_4",
        "outputId": "b4c7ff14-447b-451c-b7b1-67fba6be9c82"
      },
      "execution_count": null,
      "outputs": [
        {
          "output_type": "stream",
          "name": "stdout",
          "text": [
            "The trimmed mean of the given variable is :  106.28\n"
          ]
        }
      ]
    },
    {
      "cell_type": "markdown",
      "source": [
        " **2. Generate a list of 500 integers containing values between 200 to 300 and store it in the variable `int_list2`.**\n",
        "After generating the list, find the following:\n",
        "\n",
        "\n",
        "  (i) Compare the given list of visualization for the given data:\n",
        "\n",
        "    \n",
        "\n",
        "    1. Frequency & Gaussian distribution\n",
        "\n",
        "    2. Frequency smoothened KDE plot\n",
        "\n",
        "    3. Gaussian distribution & smoothened KDE plot\n",
        "\n",
        "\n",
        "  (ii) Write a Python function to calculate the range of a given list of numbers.\n",
        "\n",
        "\n",
        "  (iii) Create a program to find the variance and standard deviation of a list of numbers.\n",
        "\n",
        "\n",
        "  (iv) Implement a function to compute the interquartile range (IQR) of a list of values.\n",
        "\n",
        "\n",
        "  (v) Build a program to calculate the coefficient of variation for a dataset.\n",
        "\n",
        "  \n",
        "\n",
        "  (vi) Write a Python function to find the mean absolute deviation (MAD) of a list of numbers.\n",
        "\n",
        "\n",
        "  (vii) Create a program to calculate the quartile deviation of a list of values.\n",
        "\n",
        "  \n",
        "\n",
        "  (viii) Implement a function to find the range-based coefficient of dispersion for a dataset."
      ],
      "metadata": {
        "id": "yBD9ghIpiomG"
      }
    },
    {
      "cell_type": "code",
      "source": [
        "int_list2 = np.random.randint(200, 300, 500)"
      ],
      "metadata": {
        "id": "12nhPL1k7vbp"
      },
      "execution_count": null,
      "outputs": []
    },
    {
      "cell_type": "code",
      "source": [
        "int_list2"
      ],
      "metadata": {
        "colab": {
          "base_uri": "https://localhost:8080/"
        },
        "id": "ZqGT5c3C-jhW",
        "outputId": "4d5f0ef4-c03a-48a5-eee7-259c35b419de"
      },
      "execution_count": null,
      "outputs": [
        {
          "output_type": "execute_result",
          "data": {
            "text/plain": [
              "array([259, 265, 265, 232, 249, 273, 225, 205, 242, 201, 221, 266, 214,\n",
              "       265, 247, 211, 245, 254, 271, 236, 219, 223, 257, 237, 272, 261,\n",
              "       246, 221, 253, 244, 265, 240, 204, 244, 228, 285, 206, 292, 241,\n",
              "       278, 236, 251, 261, 251, 201, 266, 227, 295, 274, 284, 265, 294,\n",
              "       256, 268, 276, 260, 241, 245, 287, 224, 207, 223, 224, 213, 242,\n",
              "       274, 212, 279, 235, 257, 272, 269, 233, 207, 251, 207, 249, 265,\n",
              "       297, 222, 238, 212, 269, 224, 270, 297, 252, 235, 280, 226, 252,\n",
              "       248, 253, 251, 297, 234, 250, 279, 229, 234, 246, 281, 259, 201,\n",
              "       228, 230, 216, 261, 203, 278, 228, 267, 258, 265, 212, 275, 207,\n",
              "       212, 235, 213, 213, 223, 260, 261, 295, 298, 251, 295, 220, 200,\n",
              "       208, 293, 279, 210, 244, 222, 299, 203, 284, 244, 218, 287, 262,\n",
              "       298, 214, 235, 295, 242, 217, 236, 225, 243, 231, 242, 209, 269,\n",
              "       273, 225, 264, 209, 217, 297, 258, 248, 258, 266, 200, 291, 244,\n",
              "       259, 227, 270, 283, 222, 247, 284, 271, 266, 229, 291, 295, 219,\n",
              "       260, 212, 211, 207, 204, 226, 260, 280, 214, 214, 211, 285, 287,\n",
              "       227, 213, 232, 216, 270, 224, 231, 260, 289, 297, 242, 200, 268,\n",
              "       228, 247, 241, 223, 284, 286, 274, 295, 297, 229, 270, 256, 256,\n",
              "       210, 290, 249, 295, 259, 260, 246, 222, 285, 291, 259, 210, 291,\n",
              "       242, 207, 251, 216, 238, 200, 217, 276, 237, 268, 211, 275, 276,\n",
              "       289, 211, 264, 244, 230, 228, 243, 213, 296, 256, 283, 263, 257,\n",
              "       265, 257, 210, 202, 232, 295, 209, 252, 281, 208, 244, 279, 201,\n",
              "       208, 264, 284, 271, 240, 225, 249, 208, 299, 257, 251, 259, 216,\n",
              "       222, 279, 278, 220, 201, 284, 200, 251, 242, 298, 245, 227, 283,\n",
              "       263, 245, 203, 222, 264, 246, 233, 273, 242, 251, 201, 208, 276,\n",
              "       238, 257, 277, 272, 292, 261, 263, 242, 297, 204, 291, 280, 200,\n",
              "       212, 226, 232, 282, 262, 285, 215, 210, 274, 294, 296, 294, 214,\n",
              "       208, 235, 295, 282, 298, 276, 238, 282, 240, 225, 227, 285, 248,\n",
              "       246, 244, 215, 211, 264, 269, 261, 215, 206, 200, 299, 200, 237,\n",
              "       276, 245, 249, 219, 226, 209, 237, 211, 255, 275, 203, 202, 202,\n",
              "       240, 212, 267, 297, 270, 264, 215, 245, 284, 217, 262, 260, 214,\n",
              "       240, 225, 229, 212, 260, 298, 242, 271, 204, 256, 253, 272, 232,\n",
              "       287, 218, 278, 212, 287, 277, 289, 203, 233, 236, 201, 224, 267,\n",
              "       294, 201, 233, 227, 292, 239, 263, 280, 239, 208, 251, 238, 230,\n",
              "       264, 257, 256, 291, 291, 269, 292, 260, 266, 232, 221, 243, 233,\n",
              "       236, 213, 268, 263, 253, 220, 298, 261, 235, 298, 206, 295, 268,\n",
              "       242, 218, 206, 240, 272, 252, 238, 247, 240, 201, 205, 242, 204,\n",
              "       200, 212, 206, 255, 231, 275, 282, 283, 221, 235, 282, 271, 216,\n",
              "       203, 273, 247, 253, 260, 259, 252, 229, 232, 233, 232, 204, 252,\n",
              "       239, 271, 294, 233, 271, 214])"
            ]
          },
          "metadata": {},
          "execution_count": 11
        }
      ]
    },
    {
      "cell_type": "code",
      "source": [
        "#Frequency distrib\n",
        "\n",
        "plt.figure(figsize=(10, 5))\n",
        "\n",
        "plt.hist(int_list2, bins=20, density=True, alpha=0.6, color='g', label='Frequency')\n",
        "plt.title('Frequency Distribution of int_list2')\n",
        "plt.xlabel('Values')\n",
        "plt.ylabel('Frequency')\n",
        "plt.show()"
      ],
      "metadata": {
        "id": "sFyViOMH-m3n",
        "colab": {
          "base_uri": "https://localhost:8080/",
          "height": 487
        },
        "outputId": "a809c272-e7a1-474c-f24f-69a1c4c8f9a0"
      },
      "execution_count": null,
      "outputs": [
        {
          "output_type": "display_data",
          "data": {
            "text/plain": [
              "<Figure size 1000x500 with 1 Axes>"
            ],
            "image/png": "[encoded data removed]"
          },
          "metadata": {}
        }
      ]
    },
    {
      "cell_type": "code",
      "source": [
        "#gaussian distribution\n",
        "\n",
        "mean = np.mean(int_list2)\n",
        "std_dev = np.std(int_list2)\n",
        "sizer = int_list2.shape\n",
        "normal = np.random.normal(mean, std_dev, sizer)"
      ],
      "metadata": {
        "id": "fNMV7sIs6dVe"
      },
      "execution_count": null,
      "outputs": []
    },
    {
      "cell_type": "code",
      "source": [
        "normal"
      ],
      "metadata": {
        "colab": {
          "base_uri": "https://localhost:8080/"
        },
        "id": "9IODvb9k61iN",
        "outputId": "5d1416c4-0432-4cbd-fae0-4b29f6ea4474"
      },
      "execution_count": null,
      "outputs": [
        {
          "output_type": "execute_result",
          "data": {
            "text/plain": [
              "array([256.68666744, 247.47460479, 269.57300841, 165.82907137,\n",
              "       246.68269245, 215.03726456, 239.9270339 , 227.84363492,\n",
              "       208.83523285, 235.09430492, 252.89140888, 258.87786642,\n",
              "       304.56248807, 244.61422864, 315.64825973, 239.73542276,\n",
              "       208.23944976, 242.10346118, 250.87662096, 297.0135306 ,\n",
              "       220.63802075, 215.74912382, 216.12962505, 261.73859297,\n",
              "       218.96388969, 191.39301518, 227.95400806, 252.27209998,\n",
              "       229.7599668 , 245.82580019, 251.92245469, 239.44963048,\n",
              "       252.02692388, 251.58511211, 261.46720044, 220.5756484 ,\n",
              "       281.14701543, 215.48162299, 303.99171   , 254.14774186,\n",
              "       245.96880135, 239.47573071, 295.75679477, 235.77265473,\n",
              "       276.72431775, 244.53865769, 204.51249555, 227.62471551,\n",
              "       228.29162191, 254.83147493, 243.42598485, 254.37660224,\n",
              "       257.88956017, 234.31825763, 252.70028056, 204.4296014 ,\n",
              "       219.46841648, 241.99641491, 232.75729304, 298.21087453,\n",
              "       207.429856  , 262.75825451, 252.76330381, 268.01475986,\n",
              "       228.70919604, 225.19857109, 226.2360326 , 233.81953476,\n",
              "       241.79075154, 271.03909771, 305.73264169, 253.16370016,\n",
              "       202.63347608, 202.86068503, 273.34574527, 228.05476536,\n",
              "       265.69863794, 244.12044753, 283.26202901, 223.10156487,\n",
              "       207.59567898, 259.13473506, 218.7353116 , 224.92278305,\n",
              "       228.56139758, 205.55024564, 232.88993635, 244.02920591,\n",
              "       248.90784408, 235.12976843, 276.33671953, 227.07705361,\n",
              "       238.08214164, 226.66299804, 259.87941022, 233.04652112,\n",
              "       220.84530679, 265.99314663, 205.9800897 , 280.75937579,\n",
              "       277.49647225, 290.96888564, 273.2433875 , 304.78216104,\n",
              "       240.26910397, 270.052986  , 261.98939173, 225.42862742,\n",
              "       234.73571803, 236.60370643, 238.23012814, 202.03195739,\n",
              "       267.37852997, 239.7426804 , 267.39553652, 282.76898174,\n",
              "       246.77239855, 212.07218583, 234.64892481, 267.30384415,\n",
              "       308.10088629, 266.03935272, 258.6568436 , 197.59133628,\n",
              "       225.89384788, 251.67476315, 238.70186837, 250.69360693,\n",
              "       196.80307387, 235.5363363 , 260.21201676, 257.6703193 ,\n",
              "       247.80428362, 260.17362166, 255.23163192, 266.98946237,\n",
              "       224.28551756, 202.3723261 , 271.29683169, 278.61840832,\n",
              "       248.18718125, 208.5940104 , 217.61458027, 311.80339507,\n",
              "       223.92125845, 248.76161305, 248.49188773, 251.88118685,\n",
              "       189.06636778, 238.65685176, 264.85189644, 260.13200293,\n",
              "       278.86134473, 285.83820952, 261.64994336, 256.94603886,\n",
              "       237.41745067, 215.31350854, 212.50454786, 259.03013918,\n",
              "       212.43113906, 270.83798176, 194.30105612, 171.58192975,\n",
              "       212.87440041, 259.35565783, 226.55359362, 272.30333499,\n",
              "       264.16181499, 263.65159776, 272.10163495, 232.52352798,\n",
              "       224.74288417, 233.34873745, 263.23617984, 223.02114814,\n",
              "       286.78359052, 242.53548629, 272.86675509, 276.58298947,\n",
              "       185.75197189, 264.29985953, 213.6551187 , 235.87939607,\n",
              "       236.84912842, 303.76062625, 279.58485807, 278.19748365,\n",
              "       217.03659057, 240.83692576, 188.51087664, 211.03620951,\n",
              "       255.2737844 , 274.71530283, 209.11050748, 299.89418128,\n",
              "       286.00763725, 268.43101017, 251.94193569, 231.48017248,\n",
              "       245.00373259, 202.66945997, 257.64775163, 234.70029079,\n",
              "       284.01378486, 267.90292238, 220.23584307, 209.97614321,\n",
              "       222.65797998, 181.30271922, 278.83161875, 278.01245881,\n",
              "       219.90145842, 256.28264099, 223.85955172, 295.5302505 ,\n",
              "       274.50547726, 248.95140418, 227.30838522, 288.95214713,\n",
              "       282.06903527, 231.82566162, 252.51932455, 232.23698075,\n",
              "       220.97878087, 273.79608292, 298.36651544, 263.79489884,\n",
              "       260.27816143, 257.68864472, 272.25592934, 203.23495454,\n",
              "       288.1196309 , 241.35333393, 204.81161932, 249.94280002,\n",
              "       196.6873615 , 242.43716472, 248.06876096, 247.2348057 ,\n",
              "       197.37429158, 249.93953217, 279.84993719, 246.16317983,\n",
              "       259.4862059 , 287.76960183, 258.9393785 , 217.42948437,\n",
              "       233.14202746, 191.17490884, 274.49114025, 258.53099539,\n",
              "       237.23720695, 276.04999015, 225.93565406, 186.09772213,\n",
              "       208.74493241, 208.8490264 , 209.40929792, 252.59586632,\n",
              "       237.71984024, 236.65320002, 252.06417438, 222.35955721,\n",
              "       261.79062395, 253.43686512, 203.88799432, 297.57725625,\n",
              "       223.71283839, 251.65496033, 239.19292419, 208.24795596,\n",
              "       221.16827959, 255.14705136, 281.70998249, 300.78857435,\n",
              "       254.05946573, 229.6918828 , 235.78039861, 254.1322575 ,\n",
              "       212.89055825, 257.86580333, 242.13221167, 219.18955212,\n",
              "       209.21670714, 206.41864343, 304.01971324, 286.26776788,\n",
              "       170.78590523, 230.51033888, 216.56974348, 219.32449921,\n",
              "       255.61135068, 241.02666355, 255.63717211, 206.9646119 ,\n",
              "       250.88357804, 198.96176773, 248.24553237, 231.38754316,\n",
              "       262.0914563 , 297.34206679, 261.28397284, 230.57289915,\n",
              "       326.31290244, 270.47234619, 223.24747584, 248.83143408,\n",
              "       202.3916445 , 229.71671993, 224.15475098, 247.24004921,\n",
              "       247.59538294, 237.48126789, 276.05048855, 241.07168771,\n",
              "       208.42597989, 271.5958416 , 234.66137846, 277.32920225,\n",
              "       290.62151549, 254.27469791, 230.74756545, 296.49964005,\n",
              "       253.66157181, 281.07046746, 231.83199712, 238.26921061,\n",
              "       244.51302507, 237.69771884, 251.10811101, 218.02062705,\n",
              "       289.23326089, 216.36231497, 217.01616608, 224.46793857,\n",
              "       235.44806823, 194.93343486, 201.72360172, 263.48994786,\n",
              "       241.67222319, 210.13833415, 245.84356817, 203.24650397,\n",
              "       257.80165857, 240.26523458, 251.52629283, 194.53117975,\n",
              "       228.88790827, 263.60881486, 302.21575016, 265.16346689,\n",
              "       213.99528966, 256.97225155, 268.23920699, 282.17874721,\n",
              "       196.38466448, 258.25404252, 227.5710851 , 239.26970285,\n",
              "       234.3301114 , 245.90324516, 252.86131112, 252.26799276,\n",
              "       259.52137913, 257.02734823, 262.83004787, 259.74973208,\n",
              "       259.91133801, 214.07720633, 264.86382722, 220.66475757,\n",
              "       219.23147684, 271.5924708 , 196.66828243, 265.45929881,\n",
              "       246.19862503, 299.6240651 , 242.12606664, 215.97499111,\n",
              "       262.0543363 , 226.87422972, 185.15705798, 258.47106394,\n",
              "       206.93415128, 252.17585378, 230.08295342, 259.73215113,\n",
              "       253.33667502, 245.6044457 , 249.70009366, 249.48337959,\n",
              "       315.78307444, 315.82432363, 269.91560048, 218.83480837,\n",
              "       238.25749745, 249.9852903 , 278.10313266, 178.34811972,\n",
              "       321.13598255, 239.71939498, 260.11763906, 278.58577761,\n",
              "       207.43689057, 203.62025379, 284.46901018, 262.75966097,\n",
              "       248.87516682, 230.07589722, 210.65744445, 257.51199712,\n",
              "       234.44581317, 258.41146258, 258.59205232, 253.97965017,\n",
              "       249.55891715, 200.94431907, 260.34858877, 255.13318304,\n",
              "       277.52275533, 254.14544777, 244.12311156, 285.37476914,\n",
              "       246.18597319, 334.51985646, 289.54688639, 200.98580357,\n",
              "       219.17393656, 263.24019605, 267.15844745, 268.05901441,\n",
              "       216.66719002, 211.57069807, 264.0418869 , 222.87236824,\n",
              "       238.51417344, 283.63915773, 191.54731664, 238.90516819,\n",
              "       206.15857875, 272.31523384, 269.46143503, 253.75974554,\n",
              "       264.47861298, 233.48554203, 257.6367494 , 217.12130097,\n",
              "       237.50417962, 283.72045384, 243.07601314, 265.64054062,\n",
              "       246.59451797, 269.22038137, 275.02890342, 236.79273098,\n",
              "       279.2498635 , 249.81649262, 277.62903746, 307.47033771,\n",
              "       239.35988196, 286.42443437, 261.8957977 , 197.03212048,\n",
              "       264.96866501, 323.61917008, 222.87553267, 236.27919835,\n",
              "       253.16818406, 258.0455965 , 261.50609951, 270.38555452,\n",
              "       261.78611498, 231.15191003, 198.20743195, 255.09245284,\n",
              "       249.52319463, 232.0523099 , 274.05990591, 265.41003057,\n",
              "       202.94986333, 196.3891494 , 250.11965145, 241.83506588,\n",
              "       246.52254385, 198.89059768, 241.93171958, 265.82061744,\n",
              "       288.15892486, 246.57837434, 267.79492751, 263.70839258,\n",
              "       211.09274338, 251.71522699, 218.08338653, 251.48542728,\n",
              "       261.06187385, 208.95491126, 245.03147104, 203.09994774])"
            ]
          },
          "metadata": {},
          "execution_count": 14
        }
      ]
    },
    {
      "cell_type": "code",
      "source": [
        "plt.figure(figsize=(10, 5))\n",
        "\n",
        "sns.distplot(normal, kde=True)\n",
        "plt.title('Gaussian Distribution of int_list2')\n",
        "plt.xlabel('Values')\n",
        "plt.ylabel('normal')\n",
        "plt.show()"
      ],
      "metadata": {
        "colab": {
          "base_uri": "https://localhost:8080/",
          "height": 678
        },
        "id": "bLpe0F8n8rTK",
        "outputId": "786e5fcf-027c-47af-81bc-a13ebdd354ac"
      },
      "execution_count": null,
      "outputs": [
        {
          "output_type": "stream",
          "name": "stderr",
          "text": [
            "<ipython-input-15-6bbf2387935d>:3: UserWarning: \n",
            "\n",
            "`distplot` is a deprecated function and will be removed in seaborn v0.14.0.\n",
            "\n",
            "Please adapt your code to use either `displot` (a figure-level function with\n",
            "similar flexibility) or `histplot` (an axes-level function for histograms).\n",
            "\n",
            "For a guide to updating your code to use the new functions, please see\n",
            "https://gist.github.com/mwaskom/de44147ed2974457ad6372750bbe5751\n",
            "\n",
            "  sns.distplot(normal, kde=True)\n"
          ]
        },
        {
          "output_type": "display_data",
          "data": {
            "text/plain": [
              "<Figure size 1000x500 with 1 Axes>"
            ],
            "image/png": "[encoded data removed]"
          },
          "metadata": {}
        }
      ]
    },
    {
      "cell_type": "code",
      "source": [
        "# Frequency smoothened KDE plot\n",
        "\n",
        "mode = stats.mode(int_list2, keepdims=True)\n",
        "plt.figure(figsize=(10, 5))\n",
        "\n",
        "sns.histplot(int_list2, kde=True, color='purple', stat='density')\n",
        "plt.axvline(mode.mode[0], color='red', linestyle='--')\n",
        "plt.title('Frequency smoothened KDE plot')\n",
        "plt.xlabel('Values')\n",
        "plt.ylabel('Frequency')\n",
        "plt.show()"
      ],
      "metadata": {
        "colab": {
          "base_uri": "https://localhost:8080/",
          "height": 487
        },
        "id": "1mQnDrVq9H-K",
        "outputId": "62bd3543-22d8-4856-d782-de75ff713ee8"
      },
      "execution_count": null,
      "outputs": [
        {
          "output_type": "display_data",
          "data": {
            "text/plain": [
              "<Figure size 1000x500 with 1 Axes>"
            ],
            "image/png": "[encoded data removed]"
          },
          "metadata": {}
        }
      ]
    },
    {
      "cell_type": "code",
      "source": [
        "# 3. Gaussian distribution & smoothened KDE plot\n",
        "\n",
        "plt.figure(figsize=(10, 5))\n",
        "sns.displot(normal, kde=True, color='red', stat='density')\n",
        "plt.title('Gaussian distribution & smoothened KDE plot')\n",
        "plt.xlabel('Values')\n",
        "plt.ylabel('normal')\n",
        "plt.show()"
      ],
      "metadata": {
        "colab": {
          "base_uri": "https://localhost:8080/",
          "height": 564
        },
        "id": "2ufEIboS9lLZ",
        "outputId": "0687cdb3-7428-46b2-b5bd-958ca2c037cd"
      },
      "execution_count": null,
      "outputs": [
        {
          "output_type": "display_data",
          "data": {
            "text/plain": [
              "<Figure size 1000x500 with 0 Axes>"
            ]
          },
          "metadata": {}
        },
        {
          "output_type": "display_data",
          "data": {
            "text/plain": [
              "<Figure size 500x500 with 1 Axes>"
            ],
            "image/png": "[encoded data removed]"
          },
          "metadata": {}
        }
      ]
    },
    {
      "cell_type": "code",
      "source": [
        "# (ii) Write a Python function to calculate the range of a given list of numbers\n",
        "def calculate_range(n):\n",
        "  return (np.max(n) - np.min(n))/2\n",
        "\n",
        "print(f\"The range of the given list is {calculate_range(int_list2)}\")"
      ],
      "metadata": {
        "colab": {
          "base_uri": "https://localhost:8080/"
        },
        "id": "Uab9R3Lq_I6X",
        "outputId": "7d51dac0-51c1-44bf-ada0-fc6a9efd0c0b"
      },
      "execution_count": null,
      "outputs": [
        {
          "output_type": "stream",
          "name": "stdout",
          "text": [
            "The range of the given list is 49.5\n"
          ]
        }
      ]
    },
    {
      "cell_type": "code",
      "source": [
        "  # (iii) Create a program to find the variance and standard deviation of a list of numbers.\n",
        "\n",
        "print(f\"The variance of the given list is {np.var(int_list2)}\")\n",
        "print(f\"The standard deviation of the given list is {round(np.std(int_list2), 2)}\")"
      ],
      "metadata": {
        "colab": {
          "base_uri": "https://localhost:8080/"
        },
        "id": "dd95LFqc_5EW",
        "outputId": "6a78011b-f464-47e4-ade5-efcabdb88b25"
      },
      "execution_count": null,
      "outputs": [
        {
          "output_type": "stream",
          "name": "stdout",
          "text": [
            "The variance of the given list is 827.674316\n",
            "The standard deviation of the given list is 28.77\n"
          ]
        }
      ]
    },
    {
      "cell_type": "code",
      "source": [
        "#  (iv) Implement a function to compute the interquartile range (IQR) of a list of values\n",
        "\n",
        "def IQR(n):\n",
        "  return stats.iqr(n)\n",
        "\n",
        "print(f\"The IQR of the given list is {IQR(int_list2)}\")"
      ],
      "metadata": {
        "colab": {
          "base_uri": "https://localhost:8080/"
        },
        "id": "t7uSzRMkAJWW",
        "outputId": "9b220cf3-2a3a-4e6b-9ee9-0c137e515ed5"
      },
      "execution_count": null,
      "outputs": [
        {
          "output_type": "stream",
          "name": "stdout",
          "text": [
            "The IQR of the given list is 47.25\n"
          ]
        }
      ]
    },
    {
      "cell_type": "code",
      "source": [
        "  # (v) Build a program to calculate the coefficient of variation for a dataset.\n",
        "\n",
        "def coff_variation(n):\n",
        "    std = np.std(n)\n",
        "    mean= np.mean(n)\n",
        "    return std/mean\n",
        "\n",
        "print(f\"The coefficient of variation of the given list is {round(coff_variation(int_list2), 2)}\")"
      ],
      "metadata": {
        "colab": {
          "base_uri": "https://localhost:8080/"
        },
        "id": "DbYrd2iYAgW2",
        "outputId": "708800fa-49d6-4cf8-9e80-52e5fb244553"
      },
      "execution_count": null,
      "outputs": [
        {
          "output_type": "stream",
          "name": "stdout",
          "text": [
            "The coefficient of variation of the given list is 0.12\n"
          ]
        }
      ]
    },
    {
      "cell_type": "code",
      "source": [
        "  # (vi) Write a Python function to find the mean absolute deviation (MAD) of a list of numbers.\n",
        "\n",
        "def mad(n):\n",
        "    mean = np.mean(n)\n",
        "    ab_dev = [abs(x-mean) for x in n]\n",
        "    mad = np.mean(ab_dev)\n",
        "    return mad\n",
        "\n",
        "print(f\"The mean absolute deviation of the given list is {round(mad(int_list2), 2)}\")"
      ],
      "metadata": {
        "colab": {
          "base_uri": "https://localhost:8080/"
        },
        "id": "cVbYFJ6BAxlF",
        "outputId": "94c15674-813a-4ae9-bcb7-25e195db909a"
      },
      "execution_count": null,
      "outputs": [
        {
          "output_type": "stream",
          "name": "stdout",
          "text": [
            "The mean absolute deviation of the given list is 24.69\n"
          ]
        }
      ]
    },
    {
      "cell_type": "code",
      "source": [
        "  # (vii) Create a program to calculate the quartile deviation of a list of values.\n",
        "\n",
        "q3 = np.quantile(int_list2, 0.75)\n",
        "q1 = np.quantile(int_list2, 0.25)\n",
        "iqr = (q3 - q1)/2\n",
        "print(f\"The quartile deviation of the given list is {iqr}\")"
      ],
      "metadata": {
        "colab": {
          "base_uri": "https://localhost:8080/"
        },
        "id": "QmEYXiDDB78k",
        "outputId": "22da9e16-873a-4a86-a6f0-231dbfe131f7"
      },
      "execution_count": null,
      "outputs": [
        {
          "output_type": "stream",
          "name": "stdout",
          "text": [
            "The quartile deviation of the given list is 23.625\n"
          ]
        }
      ]
    },
    {
      "cell_type": "code",
      "source": [
        "  # (viii) Implement a function to find the range-based coefficient of dispersion for a dataset.\n",
        "\n",
        "def rbc(n):\n",
        "    return np.max(n) - np.min(n)/np.max(n) + np.min(n)\n",
        "\n",
        "\n",
        "print(f\"The range-based coefficient of dispersion of the given list is {round(rbc(int_list2), 2)}\")"
      ],
      "metadata": {
        "colab": {
          "base_uri": "https://localhost:8080/"
        },
        "id": "-9sombT6C1gz",
        "outputId": "3d4e997e-0495-45bc-b3e8-4326e6af0ef7"
      },
      "execution_count": null,
      "outputs": [
        {
          "output_type": "stream",
          "name": "stdout",
          "text": [
            "The range-based coefficient of dispersion of the given list is 498.33\n"
          ]
        }
      ]
    },
    {
      "cell_type": "code",
      "source": [
        "#3)  Write a Python class representing a discrete random variable with methods to calculate its expected\n",
        "# value and variance.\n",
        "\n",
        "class DiscreateRandomVariable():\n",
        "  \"\"\"\n",
        "        Initializes a discrete random variable.\n",
        "\n",
        "        Args:\n",
        "            values: A list of possible values for the random variable.\n",
        "            probabilities: A list of probabilities corresponding to each value.\n",
        "        \"\"\"\n",
        "  def __init__(self, value, probs):\n",
        "    if len(value) != len(probs):\n",
        "      raise ValueError(\"Raised the value error because the imbalance of both the data sets\")\n",
        "\n",
        "    total_prob = sum(probs)\n",
        "\n",
        "    if total_prob == 0 :\n",
        "      raise ValueError(\"Sum probs can't be zero\")\n",
        "\n",
        "    self.value = value\n",
        "    self.probs = [x/total_prob for x in probs]\n",
        "\n",
        "  def expected_value(self):\n",
        "    return (sum(v * p for v,p in zip(self.value, self.probs)))\n",
        "\n",
        "  def variance(self):\n",
        "    mean = self.expected_value()\n",
        "    return sum((v-mean)**2 * p for v,p in zip(self.value, self.probs))\n",
        "\n",
        "\n",
        "\n",
        "sumer = DiscreateRandomVariable([1,2,3,4,5], [1,2,4,6,7])\n",
        "print(f\"The Expected value of the given input is {sumer.expected_value():.2f}\")\n",
        "print(f\"The Variance of the given data set is {sumer.variance():.2f}\")"
      ],
      "metadata": {
        "id": "MB9mPY-DDuVi",
        "colab": {
          "base_uri": "https://localhost:8080/"
        },
        "outputId": "176f470c-44b9-48c2-cd3b-380512028d2d"
      },
      "execution_count": null,
      "outputs": [
        {
          "output_type": "stream",
          "name": "stdout",
          "text": [
            "The Expected value of the given input is 3.80\n",
            "The Variance of the given data set is 1.36\n"
          ]
        }
      ]
    },
    {
      "cell_type": "code",
      "source": [
        "# Implement a program to simulate the rolling of a fair six-sided die and calculate the expected value and\n",
        "# variance of the outcomes.\n",
        "\n",
        "die = DiscreateRandomVariable([1,2,3,4,5,6], [1,1,1,1,1,1])\n",
        "\n",
        "print(f\"The Expected value of the given input is {die.expected_value():.2f}\")\n",
        "print(f\"The Variance of the given data set is {die.variance():.2f}\")"
      ],
      "metadata": {
        "colab": {
          "base_uri": "https://localhost:8080/"
        },
        "id": "kRtaxfqbKLIJ",
        "outputId": "a55b1175-aa96-4363-bfaa-726a3d60fa91"
      },
      "execution_count": null,
      "outputs": [
        {
          "output_type": "stream",
          "name": "stdout",
          "text": [
            "The Expected value of the given input is 3.50\n",
            "The Variance of the given data set is 2.92\n"
          ]
        }
      ]
    },
    {
      "cell_type": "code",
      "source": [
        "# 5) Create a Python function to generate random samples from a given probability distribution (e.g.,\n",
        "# binomial, Poisson) and calculate their mean and variance.\n",
        "\n",
        "def random_variable(dist,n,p=None, size=10):\n",
        "\n",
        "  if dist == 'binomial'.lower():\n",
        "\n",
        "    binomial = np.random.binomial(n,p, size)\n",
        "    mean = np.mean(binomial)\n",
        "    variance = np.var(binomial)\n",
        "    return \"The binomial distribution is {}\\nThe mean is {}\\nThe variance is {}\".format(binomial, mean, variance)\n",
        "\n",
        "  elif dist == 'poisson'.lower():\n",
        "    poisson = np.random.poisson(n, size)\n",
        "    mean = np.mean(poisson)\n",
        "    variance = np.var(poisson)\n",
        "    return \"The poisson distribution is {}\\nThe mean is {}\\nThe variance is {}\".format(poisson, mean, variance)\n",
        "  else:\n",
        "    return \"Invalid distribution\"\n",
        "\n",
        "\n",
        "print(random_variable('binomial', 100,np.random.rand(5), 5))\n",
        "print(random_variable('poisson', 100, 5))\n"
      ],
      "metadata": {
        "id": "6odunCfTQarF",
        "colab": {
          "base_uri": "https://localhost:8080/"
        },
        "outputId": "ec6803ae-4c4d-42d6-a979-d7b9f510e5d9"
      },
      "execution_count": null,
      "outputs": [
        {
          "output_type": "stream",
          "name": "stdout",
          "text": [
            "The binomial distribution is [17 77 37 95 72]\n",
            "The mean is 59.6\n",
            "The variance is 807.04\n",
            "The poisson distribution is [106  97  91  95 114 104  97 100 113 108]\n",
            "The mean is 102.5\n",
            "The variance is 54.25\n"
          ]
        }
      ]
    },
    {
      "cell_type": "code",
      "source": [
        "# Write a Python script to generate random numbers from a Gaussian (normal) distribution and compute\n",
        "# the mean, variance, and standard deviation of the samples.\n",
        "\n",
        "def gaussian_distrib(mean, std_dev, samples):\n",
        "  gaussian = np.random.normal(mean, std_dev, samples)\n",
        "  mean = np.mean(gaussian)\n",
        "  variance = np.var(gaussian)\n",
        "  std_dev = np.std(gaussian)\n",
        "  return \"The gaussian distribution is {}\\nThe mean is {}\\nThe variance is {}\\nThe standard deviation is {}\".format(gaussian, mean, variance, std_dev)\n",
        "\n",
        "lister = [1,2,3,3,4,5,6]\n",
        "# var = np.var(lister)\n",
        "\n",
        "print(gaussian_distrib(np.mean(lister), np.std(lister), np.random.randint(10)))"
      ],
      "metadata": {
        "colab": {
          "base_uri": "https://localhost:8080/"
        },
        "id": "h13I1hcU5Dzi",
        "outputId": "d501b6c0-c639-4c9e-d393-d0e2d16b9639"
      },
      "execution_count": null,
      "outputs": [
        {
          "output_type": "stream",
          "name": "stdout",
          "text": [
            "The gaussian distribution is [2.90339262 2.73248006 3.11707111 3.595506   2.27044304]\n",
            "The mean is 2.9237785661937714\n",
            "The variance is 0.19048755305936568\n",
            "The standard deviation is 0.43644879775222856\n"
          ]
        }
      ]
    },
    {
      "cell_type": "code",
      "source": [
        "# Use seaborn library to load tips dataset. Find the following from the dataset for the columns total_bill\n",
        "# and tip`:\n",
        "\n",
        "\n",
        "\n",
        "#   (i) Write a Python function that calculates their skewness.\n",
        "\n",
        "\n",
        "#   (ii) Create a program that determines whether the columns exhibit positive skewness, negative skewness, or is\n",
        "# approximately symmetric.\n",
        "\n",
        "\n",
        "#   (iii) Write a function that calculates the covariance between two columns.\n",
        "\n",
        "\n",
        "#   (iv) Implement a Python program that calculates the Pearson correlation coefficient between two columns.\n",
        "\n",
        "\n",
        "#   (v) Write a script to visualize the correlation between two specific columns in a Pandas DataFrame using\n",
        "# scatter plots.\n",
        "\n",
        "import seaborn as sns\n",
        "from scipy import stats\n",
        "\n",
        "df = sns.load_dataset('tips')\n",
        "tp = df['total_bill']\n",
        "ti = df['tip']\n",
        "\n",
        "# i> skewness of the dataset\n",
        "\n",
        "def cal_skew(l1):\n",
        "  return stats.skew(l1)\n",
        "\n",
        "# ii> evaluation of the behaviour of the skewness\n",
        "def behave_skew(l1):\n",
        "  skew_behave = stats.skew(l1)\n",
        "  if skew_behave > 0:\n",
        "    return \"It is positive skew\"\n",
        "  elif skew_behave < 0:\n",
        "    return \"It is negative skew\"\n",
        "  elif skew_behave == 0:\n",
        "    return \"It is symmetric\"\n",
        "\n",
        "# iii> covar of cols\n",
        "def covar(l1, l2):\n",
        "    return np.cov(l1, l2)[0][1]\n",
        "\n",
        "# iv>Pearson correlation\n",
        "def percof(l1,l2):\n",
        "  return stats.pearsonr(l1, l2)[0]\n",
        "\n",
        "# v\n",
        "def visual_scatter(x, y, title, xlabel, ylabel):\n",
        "  plt.figure(figsize=(5,3))\n",
        "  plt.scatter(x, y, color='red')\n",
        "  plt.title(title)\n",
        "  plt.xlabel(xlabel)\n",
        "  plt.ylabel(ylabel)\n",
        "  plt.show()\n",
        "\n",
        "print(\"Skewness of total_bill:\", cal_skew(tp))\n",
        "print(\"Skewness of tip:\", cal_skew(ti))\n",
        "\n",
        "print(\"Skewness type of total_bill:\", behave_skew(tp))\n",
        "print(\"Skewness type of tip:\", behave_skew(ti))\n",
        "\n",
        "print(\"Covariance between total_bill and tip:\", covar(tp, ti))\n",
        "\n",
        "print(\"Pearson Correlation Coefficient:\", percof(tp, ti))\n",
        "\n",
        "\n",
        "# v>\n",
        "visual_scatter(tp, ti, \"Scatter Plot of total_bill vs tip\", \"total_bill\", \"tip\")"
      ],
      "metadata": {
        "colab": {
          "base_uri": "https://localhost:8080/",
          "height": 437
        },
        "id": "11S_5m0cAvdD",
        "outputId": "41b8e6f3-db4c-4633-8af4-9abe9121e726"
      },
      "execution_count": null,
      "outputs": [
        {
          "output_type": "stream",
          "name": "stdout",
          "text": [
            "Skewness of total_bill: 1.1262346334818638\n",
            "Skewness of tip: 1.4564266884221506\n",
            "Skewness type of total_bill: It is positive skew\n",
            "Skewness type of tip: It is positive skew\n",
            "Covariance between total_bill and tip: 8.323501629224854\n",
            "Pearson Correlation Coefficient: 0.6757341092113645\n"
          ]
        },
        {
          "output_type": "display_data",
          "data": {
            "text/plain": [
              "<Figure size 500x300 with 1 Axes>"
            ],
            "image/png": "[encoded data removed]"
          },
          "metadata": {}
        }
      ]
    },
    {
      "cell_type": "code",
      "source": [
        "#  Write a Python function to calculate the probability density function (PDF) of a continuous random\n",
        "# variable for a given normal distribution.\n",
        "import math\n",
        "def pdf(x, mu, std):\n",
        "  coeff = ((1/(std*np.sqrt(2*math.pi))))\n",
        "  expo = math.exp((-1/2)*((x-mu)/std)**2)\n",
        "  return coeff*expo\n",
        "\n",
        "print(f\"The Probability of the random distributions is {pdf(3, 3, 2)} \")"
      ],
      "metadata": {
        "colab": {
          "base_uri": "https://localhost:8080/"
        },
        "id": "CRnDnYpPCb7t",
        "outputId": "669d86f3-3098-409d-afd9-a59a0ce0b925"
      },
      "execution_count": null,
      "outputs": [
        {
          "output_type": "stream",
          "name": "stdout",
          "text": [
            "The Probability of the random distributions is 0.19947114020071635 \n"
          ]
        }
      ]
    },
    {
      "cell_type": "code",
      "source": [
        "# Create a program to calculate the cumulative distribution function (CDF) of exponential distribution\n",
        "\n",
        "def cdf(x, lam):\n",
        "  fx = 1 - math.exp(-lam*x)\n",
        "  return fx\n",
        "\n",
        "print(f\"The CDF of the Exponetial distrib is {cdf(2, 4)}\")"
      ],
      "metadata": {
        "colab": {
          "base_uri": "https://localhost:8080/"
        },
        "id": "7DlX1sPEOJVA",
        "outputId": "a9b20b5d-fafd-4038-f2ab-a6a479c0a909"
      },
      "execution_count": null,
      "outputs": [
        {
          "output_type": "stream",
          "name": "stdout",
          "text": [
            "The CDF of the Exponetial distrib is 0.9996645373720975\n"
          ]
        }
      ]
    },
    {
      "cell_type": "code",
      "source": [
        "# 10) Write a Python function to calculate the probability mass function (PMF) of Poisson distribution.\n",
        "\n",
        "def fac(n):\n",
        "  if n == 0:\n",
        "    return 1\n",
        "  return n * fac(n - 1)\n",
        "\n",
        "def pmf(x,lamb):\n",
        "  px = (math.exp(-lamb)*(lamb ** x)) / fac(x)\n",
        "  return px\n",
        "\n",
        "print(f\"The PMF of the Poisson distrib is {pmf(2, 4)}\")"
      ],
      "metadata": {
        "colab": {
          "base_uri": "https://localhost:8080/"
        },
        "id": "kaqhblDkPlUE",
        "outputId": "92012fe4-2f61-4000-81af-e364aa2fc897"
      },
      "execution_count": null,
      "outputs": [
        {
          "output_type": "stream",
          "name": "stdout",
          "text": [
            "The PMF of the Poisson distrib is 0.14652511110987343\n"
          ]
        }
      ]
    },
    {
      "cell_type": "code",
      "source": [
        "# M A company wants to test if a new website layout leads to a higher conversion rate (percentage of visitors\n",
        "# who make a purchase). They collect data from the old and new layouts to compare.\n",
        "\n",
        "\n",
        "# To generate the data use the following command:\n",
        "\n",
        "# ```python\n",
        "\n",
        "# import numpy as np\n",
        "\n",
        "# # 50 purchases out of 1000 visitors\n",
        "\n",
        "# old_layout = np.array([1] * 50 + [0] * 950)\n",
        "\n",
        "# # 70 purchases out of 1000 visitors\n",
        "\n",
        "# new_layout = np.array([1] * 70 + [0] * 930)\n",
        "\n",
        "#   ```\n",
        "\n",
        "# Apply z-test to find which layout is successful.\n",
        "\n",
        "old_Layout = np.array([1] * 50 + [0] * 950)\n",
        "new_Layout = np.array([1] * 70 + [0] * 930)\n",
        "\n",
        "\n",
        "from statsmodels.stats.weightstats import ztest\n",
        "\n",
        "alpha = 0.05\n",
        "\n",
        "\n",
        "zstat, pvalue = ztest(old_Layout,  new_Layout, alternative='smaller')\n",
        "\n",
        "if pvalue > alpha:\n",
        "  print('Same distribution (fail to reject H0)')\n",
        "else:\n",
        "  print('Different distribution (reject H0)')"
      ],
      "metadata": {
        "colab": {
          "base_uri": "https://localhost:8080/"
        },
        "id": "1BYkzF-KQY86",
        "outputId": "b48a2935-80e1-4048-b816-ccadfd793b67"
      },
      "execution_count": null,
      "outputs": [
        {
          "output_type": "stream",
          "name": "stdout",
          "text": [
            "Different distribution (reject H0)\n"
          ]
        }
      ]
    },
    {
      "cell_type": "code",
      "source": [
        "# A tutoring service claims that its program improves students' exam scores. A sample of students who\n",
        "# participated in the program was taken, and their scores before and after the program were recorded.\n",
        "\n",
        "\n",
        "# Use the below code to generate samples of respective arrays of marks:\n",
        "\n",
        "# ```python\n",
        "\n",
        "# before_program = np.array([75, 80, 85, 70, 90, 78, 92, 88, 82, 87])\n",
        "\n",
        "# after_program = np.array([80, 85, 90, 80, 92, 80, 95, 90, 85, 88])\n",
        "\n",
        "# ```\n",
        "\n",
        "# Use z-test to find if the claims made by tutor are true or false.\n",
        "before_program = np.array([75, 80, 85, 70, 90, 78, 92, 88, 82, 87])\n",
        "after_program = np.array([80, 85, 90, 80, 92, 80, 95, 90, 85, 88])\n",
        "\n",
        "alpha = 0.05\n",
        "\n",
        "\n",
        "zstat, pvalue = ztest(before_program,  after_program, alternative='smaller')\n",
        "\n",
        "if pvalue > alpha:\n",
        "   print(\"✅ Truthy: Program effective (Reject H₀)\")\n",
        "else:\n",
        "    print(\"❌ Falsy: No significant improvement (Fail to reject H₀)\")\n"
      ],
      "metadata": {
        "colab": {
          "base_uri": "https://localhost:8080/"
        },
        "id": "Bff5xg25Qn0-",
        "outputId": "83835e6a-e76a-4c35-a9a9-41cb3ea65553"
      },
      "execution_count": null,
      "outputs": [
        {
          "output_type": "stream",
          "name": "stdout",
          "text": [
            "✅ Truthy: Program effective (Reject H₀)\n"
          ]
        }
      ]
    },
    {
      "cell_type": "code",
      "source": [
        "# A pharmaceutical company wants to determine if a new drug is effective in reducing blood pressure. They\n",
        "# conduct a study and record blood pressure measurements before and after administering the drug.\n",
        "\n",
        "\n",
        "# Use the below code to generate samples of respective arrays of blood pressure:\n",
        "\n",
        "\n",
        "# ```python\n",
        "\n",
        "# before_drug = np.array([145, 150, 140, 135, 155, 160, 152, 148, 130, 138])\n",
        "\n",
        "# after_drug = np.array([130, 140, 132, 128, 145, 148, 138, 136, 125, 130])\n",
        "\n",
        "#   ```\n",
        "\n",
        "\n",
        "# Implement z-test to find if the drug really works or not.\n",
        "before_drug = np.array([145, 150, 140, 135, 155, 160, 152, 148, 130, 138])\n",
        "\n",
        "after_drug = np.array([130, 140, 132, 128, 145, 148, 138, 136, 125, 130])\n",
        "\n",
        "alpha = 0.05\n",
        "\n",
        "diff = before_drug - after_drug\n",
        "zstat1, pvalue1 = ztest(diff, after_drug, alternative='smaller')\n",
        "\n",
        "if pvalue1 > alpha:\n",
        "  print('Same distribution (fail to reject H0), hence the drug is not effective')\n",
        "else:\n",
        "  print('Different distribution (reject H0), hence the drug is effective ')"
      ],
      "metadata": {
        "colab": {
          "base_uri": "https://localhost:8080/"
        },
        "id": "8zD7Sr5Se_7O",
        "outputId": "c3c99d9c-6f34-4fa3-f7ca-1bedb3de9077"
      },
      "execution_count": null,
      "outputs": [
        {
          "output_type": "stream",
          "name": "stdout",
          "text": [
            "Different distribution (reject H0), hence the drug is effective \n"
          ]
        }
      ]
    },
    {
      "cell_type": "code",
      "source": [
        "# A customer service department claims that their average response time is less than 5 minutes. A sample\n",
        "# of recent customer interactions was taken, and the response times were recorded.\n",
        "\n",
        "\n",
        "# Implement the below code to generate the array of response time:\n",
        "\n",
        "# ```python\n",
        "\n",
        "# response_times = np.array([4.3, 3.8, 5.1, 4.9, 4.7, 4.2, 5.2, 4.5, 4.6, 4.4])\n",
        "\n",
        "# ```\n",
        "\n",
        "# Implement z-test to find the claims made by customer service department are tru or false\n",
        "response_times = np.array([4.3, 3.8, 5.1, 4.9, 4.7, 4.2, 5.2, 4.5, 4.6, 4.4])\n",
        "\n",
        "alpha  = 0.05\n",
        "\n",
        "zstat, pvalue = ztest(response_times, value=5, alternative='smaller')\n",
        "\n",
        "if pvalue > alpha:\n",
        "  print('Same distribution (fail to reject H0), hence the claim is true')\n",
        "else:\n",
        "  print('Different distribution (reject H0), hence the claim is false')"
      ],
      "metadata": {
        "colab": {
          "base_uri": "https://localhost:8080/"
        },
        "id": "KBSAw6L3hIFN",
        "outputId": "c53c8f10-0d01-464b-c39e-39c9444a2585"
      },
      "execution_count": null,
      "outputs": [
        {
          "output_type": "stream",
          "name": "stdout",
          "text": [
            "Different distribution (reject H0), hence the claim is false\n"
          ]
        }
      ]
    },
    {
      "cell_type": "code",
      "source": [
        "#  A company is testing two different website layouts to see which one leads to higher click-through rates.\n",
        "# Write a Python function to perform an A/B test analysis, including calculating the t-statistic, degrees of\n",
        "# freedom, and p-value.\n",
        "\n",
        "\n",
        "# Use the following data:\n",
        "\n",
        "# ```python\n",
        "\n",
        "from scipy.stats import ttest_ind\n",
        "layout_a_clicks = [28, 32, 33, 29, 31, 34, 30, 35, 36, 37]\n",
        "\n",
        "layout_b_clicks = [40, 41, 38, 42, 39, 44, 43, 41, 45, 47]\n",
        "\n",
        "def abTestAnalysis(a, b):\n",
        "  t_stat, p_value = ttest_ind(a,b)\n",
        "  df = len(a) + len(b) - 2\n",
        "  return t_stat, df, p_value\n",
        "\n",
        "t_statistic, degrees_of_freedom, p_value = abTestAnalysis(layout_a_clicks, layout_b_clicks)\n",
        "\n",
        "print(\"T-statistic:\", t_statistic)\n",
        "print(\"Degrees of freedom:\", degrees_of_freedom)\n",
        "print(\"P-value:\", p_value)"
      ],
      "metadata": {
        "id": "8lfs_AGLix_g",
        "colab": {
          "base_uri": "https://localhost:8080/"
        },
        "outputId": "346f294c-9f69-4a90-e5be-8437fb474df1"
      },
      "execution_count": 3,
      "outputs": [
        {
          "output_type": "stream",
          "name": "stdout",
          "text": [
            "T-statistic: -7.298102156175071\n",
            "Degrees of freedom: 18\n",
            "P-value: 8.833437608301987e-07\n"
          ]
        }
      ]
    },
    {
      "cell_type": "code",
      "source": [
        "#  A pharmaceutical company wants to determine if a new drug is more effective than an existing drug in\n",
        "# reducing cholesterol levels. Create a program to analyze the clinical trial data and calculate the tstatistic\n",
        "# and p-value for the treatment effect.\n",
        "\n",
        "existing_drug_levels = [180, 182, 175, 185, 178, 176, 172, 184, 179, 183]\n",
        "\n",
        "new_drug_levels = [170, 172, 165, 168, 175, 173, 170, 178, 172, 176]\n",
        "\n",
        "t_stat, p_value = ttest_ind(existing_drug_levels, new_drug_levels)\n",
        "\n",
        "alpha = 0.05\n",
        "\n",
        "if p_value < alpha:\n",
        "  print(\"Reject the null hypothesis: The new drug is more effective.\")\n",
        "\n",
        "else:\n",
        "  print(\"Failed to reject to null hypothesisi.\")"
      ],
      "metadata": {
        "colab": {
          "base_uri": "https://localhost:8080/"
        },
        "id": "bfGjd4LfhlZx",
        "outputId": "7cd80520-d21c-4e44-a066-f9c06060cbc3"
      },
      "execution_count": 4,
      "outputs": [
        {
          "output_type": "stream",
          "name": "stdout",
          "text": [
            "Reject the null hypothesis: The new drug is more effective.\n"
          ]
        }
      ]
    },
    {
      "cell_type": "code",
      "source": [
        "# A school district introduces an educational intervention program to improve math scores.\n",
        "# Write a Python function to analyze pre- and post-intervention test scores, calculating the t-statistic and p-value to\n",
        "# determine if the intervention had a significant impact.\n",
        "\n",
        "\n",
        "pre_intervention_scores = [80, 85, 90, 75, 88, 82, 92, 78, 85, 87]\n",
        "\n",
        "post_intervention_scores = [90, 92, 88, 92, 95, 91, 96, 93, 89, 93]\n",
        "\n",
        "from scipy.stats import ttest_rel # The given data groups are paired having a before and after condition\n",
        "\n",
        "def preposttest(a, b):\n",
        "  tstats, pvalue = ttest_rel(a, b)\n",
        "  return tstats, pvalue\n",
        "\n",
        "alpha = 0.05\n",
        "tstats, pvalue = preposttest(pre_intervention_scores, post_intervention_scores)\n",
        "\n",
        "if pvalue < alpha:\n",
        "  print(\"Reject the null hypothesis: scores are improved.\")\n",
        "else:\n",
        "  print(\"Failed to reject the null hypothesis: scores are same\")"
      ],
      "metadata": {
        "colab": {
          "base_uri": "https://localhost:8080/"
        },
        "id": "IFfizlNImSol",
        "outputId": "fc3a95a3-ab0f-4899-dfd8-fe48db67eb5b"
      },
      "execution_count": 8,
      "outputs": [
        {
          "output_type": "stream",
          "name": "stdout",
          "text": [
            "Reject the null hypothesis: scores are improved.\n"
          ]
        }
      ]
    },
    {
      "cell_type": "code",
      "source": [
        "# An HR department wants to investigate if there's a gender-based salary gap within the company. Develop\n",
        "# a program to analyze salary data, calculate the t-statistic, and determine if there's a statistically\n",
        "# significant difference between the average salaries of male and female employees.\n",
        "\n",
        "# Generate synthetic salary data for male and female employees\n",
        "import numpy as np\n",
        "\n",
        "np.random.seed(0)  # For reproducibility\n",
        "\n",
        "male_salaries = np.random.normal(loc=50000, scale=10000, size=20)\n",
        "\n",
        "female_salaries = np.random.normal(loc=55000, scale=9000, size=20)\n",
        "\n",
        "ttest, pvalue = ttest_ind(male_salaries, female_salaries)\n",
        "\n",
        "alpha = 0.05\n",
        "\n",
        "if pvalue < alpha:\n",
        "  print(\"Reject the null Hypothesis: gender based salary difference\\n{ttest} and {pvalue}\".format(ttest, pvalue))\n",
        "else:\n",
        "  print(\"Reject No gender based salary difference \\nt-test: {} and p value: {}\".format(ttest, pvalue))"
      ],
      "metadata": {
        "colab": {
          "base_uri": "https://localhost:8080/"
        },
        "id": "uwpb_wtVsI-R",
        "outputId": "320a49ec-ebae-47ad-bd2c-dc48102a7b24"
      },
      "execution_count": 13,
      "outputs": [
        {
          "output_type": "stream",
          "name": "stdout",
          "text": [
            "Reject No gender based salary difference \n",
            "t-test: 0.06114208969631383 and p value: 0.9515665020676465\n"
          ]
        }
      ]
    },
    {
      "cell_type": "code",
      "source": [
        "# A manufacturer produces two different versions of a product and wants to compare their quality scores.\n",
        "# Create a Python function to analyze quality assessment data, calculate the t-statistic, and decide\n",
        "# whether there's a significant difference in quality between the two versions.\n",
        "\n",
        "version1_scores = [85, 88, 82, 89, 87, 84, 90, 88, 85, 86, 91, 83, 87, 84, 89, 86, 84, 88, 85, 86, 89, 90, 87, 88, 85]\n",
        "\n",
        "version2_scores = [80, 78, 83, 81, 79, 82, 76, 80, 78, 81, 77, 82, 80, 79, 82, 79, 80, 81, 79, 82, 79, 78, 80, 81, 82]\n",
        "\n",
        "def anlqty(a,b):\n",
        "  ttest, pvalue = ttest_ind(a, b)\n",
        "  return ttest, pvalue\n",
        "\n",
        "alpha = 0.05\n",
        "ttest, pvalue = anlqty(version1_scores, version2_scores)\n",
        "\n",
        "if pvalue < alpha:\n",
        "  print(\"Reject the null hypothesis: There is significant difference in quality between two versions\")\n",
        "else:\n",
        "  print(\"Failed to reject the null hypothesis: There is no such significant difference in quality between two versions\")"
      ],
      "metadata": {
        "colab": {
          "base_uri": "https://localhost:8080/"
        },
        "id": "xf-pYerYux8c",
        "outputId": "8fadc5d7-26e8-4b24-c036-e808034f732b"
      },
      "execution_count": 14,
      "outputs": [
        {
          "output_type": "stream",
          "name": "stdout",
          "text": [
            "Reject the null hypothesis: There is significant difference in quality between two versions\n"
          ]
        }
      ]
    },
    {
      "cell_type": "code",
      "source": [
        "#  A restaurant chain collects customer satisfaction scores for two different branches. Write a program to\n",
        "# analyze the scores, calculate the t-statistic, and determine if there's a statistically significant difference in\n",
        "# customer satisfaction between the branches.\n",
        "\n",
        "branch_a_scores = [4, 5, 3, 4, 5, 4, 5, 3, 4, 4, 5, 4, 4, 3, 4, 5, 5, 4, 3, 4, 5, 4, 3, 5, 4, 4, 5, 3, 4, 5, 4]\n",
        "\n",
        "branch_b_scores = [3, 4, 2, 3, 4, 3, 4, 2, 3, 3, 4, 3, 3, 2, 3, 4, 4, 3, 2, 3, 4, 3, 2, 4, 3, 3, 4, 2, 3, 4, 3]\n",
        "\n",
        "ttest, pvalue = ttest_ind(branch_a_scores, branch_b_scores)\n",
        "\n",
        "if p_value < alpha:\n",
        "    print(\" Reject the null hypothesis: There is a significant difference in customer satisfaction between the branches.\")\n",
        "else:\n",
        "    print(\" Fail to reject the null hypothesis: No significant difference in customer satisfaction.\")"
      ],
      "metadata": {
        "colab": {
          "base_uri": "https://localhost:8080/"
        },
        "id": "J6nF6Pf6v89M",
        "outputId": "c4d378ce-b2e1-45c2-c8a3-1b6c457a77ab"
      },
      "execution_count": 15,
      "outputs": [
        {
          "output_type": "stream",
          "name": "stdout",
          "text": [
            "✅ Reject the null hypothesis: There is a significant difference in customer satisfaction between the branches.\n"
          ]
        }
      ]
    },
    {
      "cell_type": "code",
      "source": [
        "# ? A political analyst wants to determine if there is a significant association between age groups and voter\n",
        "# preferences (Candidate A or Candidate B). They collect data from a sample of 500 voters and classify\n",
        "# them into different age groups and candidate preferences. Perform a Chi-Square test to determine if\n",
        "# there is a significant association between age groups and voter preferences.\n",
        "\n",
        "import pandas as pd\n",
        "\n",
        "from scipy.stats import chi2_contingency\n",
        "np.random.seed(0)\n",
        "\n",
        "age_groups = np.random.choice(['18-30', '31-50', '51+'], size=500)\n",
        "voter_preferences = np.random.choice(['Candidate A', 'Candidate B'], size=500)\n",
        "\n",
        "contigency_table = pd.crosstab(age_groups, voter_preferences)\n",
        "\n",
        "chi_square, pvalue, dof, expected = chi2_contingency(contigency_table)\n",
        "\n",
        "print(\"\\nChi-Square Test Results:\")\n",
        "print(f\"Chi-Square Statistic: {chi_square:.4f}\")\n",
        "print(f\"P-value: {p_value:.4f}\")\n",
        "print(f\"Degrees of Freedom: {dof}\")\n",
        "print(f\"Expected frequencies:\\n{expected}\")\n",
        "\n",
        "\n",
        "alpha = 0.05\n",
        "if p_value < alpha:\n",
        "    print(\"\\nReject the null hypothesis: There is a significant association between age groups and voter preferences.\")\n",
        "else:\n",
        "    print(\"\\nFail to reject the null hypothesis: There is no significant association between age groups and voter preferences.\")"
      ],
      "metadata": {
        "colab": {
          "base_uri": "https://localhost:8080/"
        },
        "id": "AgiD8jT2xSUw",
        "outputId": "2bf6e1e6-ebe2-43ef-d8e9-cd6f612616f4"
      },
      "execution_count": 20,
      "outputs": [
        {
          "output_type": "stream",
          "name": "stdout",
          "text": [
            "\n",
            "Chi-Square Test Results:\n",
            "Chi-Square Statistic: 0.8780\n",
            "P-value: 0.0006\n",
            "Degrees of Freedom: 2\n",
            "Expected frequencies:\n",
            "[[96.824 85.176]\n",
            " [89.908 79.092]\n",
            " [79.268 69.732]]\n",
            "\n",
            "Reject the null hypothesis: There is a significant association between age groups and voter preferences.\n"
          ]
        }
      ]
    },
    {
      "cell_type": "code",
      "source": [
        "#  A company conducted a customer satisfaction survey to determine if there is a significant relationship\n",
        "# between product satisfaction levels (Satisfied, Neutral, Dissatisfied) and the region where customers are\n",
        "# located (East, West, North, South). The survey data is summarized in a contingency table. Conduct a ChiSquare test to determine if there is a significant relationship between product satisfaction levels and\n",
        "# customer regions.\n",
        "\n",
        "\n",
        "import numpy as np\n",
        "from scipy.stats import chi2_contingency\n",
        "\n",
        "data = np.array([[50, 30, 40, 20], [30, 40, 30, 50], [20, 30, 40, 30]])\n",
        "\n",
        "\n",
        "chi_stat, p_value, dof, expected = chi2_contingency(data)\n",
        "\n",
        "print(\"Chi-Square Statistic:\", chi_stat)\n",
        "print(\"P-value:\", p_value)\n",
        "print(\"Degrees of Freedom:\", dof)\n",
        "print(\"Expected Frequencies:\")\n",
        "print(expected)\n",
        "\n",
        "\n",
        "alpha = 0.05\n",
        "if p_value < alpha:\n",
        "    print(\"\\nReject the null hypothesis: There is a significant relationship between product satisfaction levels and customer regions.\")\n",
        "else:\n",
        "    print(\"\\nFail to reject the null hypothesis: There is no significant relationship between product satisfaction levels and customer regions.\")\n"
      ],
      "metadata": {
        "colab": {
          "base_uri": "https://localhost:8080/"
        },
        "id": "D9DLsyUxyzaf",
        "outputId": "8ea7c11c-3ef4-49d9-d2ac-4027011090d2"
      },
      "execution_count": 22,
      "outputs": [
        {
          "output_type": "stream",
          "name": "stdout",
          "text": [
            "Chi-Square Statistic: 27.777056277056275\n",
            "P-value: 0.00010349448486004387\n",
            "Degrees of Freedom: 6\n",
            "Expected Frequencies:\n",
            "[[34.14634146 34.14634146 37.56097561 34.14634146]\n",
            " [36.58536585 36.58536585 40.24390244 36.58536585]\n",
            " [29.26829268 29.26829268 32.19512195 29.26829268]]\n",
            "\n",
            "Reject the null hypothesis: There is a significant relationship between product satisfaction levels and customer regions.\n"
          ]
        }
      ]
    },
    {
      "cell_type": "code",
      "source": [
        "#  23. A company implemented an employee training program to improve job performance (Effective, Neutral,\n",
        "# Ineffective). After the training, they collected data from a sample of employees and classified them based\n",
        "# on their job performance before and after the training. Perform a Chi-Square test to determine if there is a\n",
        "# significant difference between job performance levels before and after the training.\n",
        "\n",
        "\n",
        "\n",
        "import numpy as np\n",
        "from scipy.stats import chi2_contingency\n",
        "\n",
        "\n",
        "data = np.array([[50, 30, 20], [30, 40, 30], [20, 30, 40]])\n",
        "\n",
        "\n",
        "chi_stat, p_value, dof, expected = chi2_contingency(data)\n",
        "\n",
        "\n",
        "print(\"Chi-Square Statistic:\", chi_stat)\n",
        "print(\"P-value:\", p_value)\n",
        "print(\"Degrees of Freedom:\", dof)\n",
        "print(\"Expected Frequencies:\")\n",
        "\n",
        "print(expected)\n",
        "\n",
        "\n",
        "alpha = 0.05\n",
        "if p_value < alpha:\n",
        "    print(\"\\nReject the null hypothesis: There is a significant difference in job performance before and after the training.\")\n",
        "else:\n",
        "    print(\"\\nFail to reject the null hypothesis: No significant difference in job performance before and after the training.\")\n"
      ],
      "metadata": {
        "colab": {
          "base_uri": "https://localhost:8080/"
        },
        "id": "KeQrf61tz8pQ",
        "outputId": "95bfbe2b-842c-4caa-ddb6-b10e052283dc"
      },
      "execution_count": 24,
      "outputs": [
        {
          "output_type": "stream",
          "name": "stdout",
          "text": [
            "Chi-Square Statistic: 22.161728395061726\n",
            "P-value: 0.00018609719479882557\n",
            "Degrees of Freedom: 4\n",
            "Expected Frequencies:\n",
            "[[34.48275862 34.48275862 31.03448276]\n",
            " [34.48275862 34.48275862 31.03448276]\n",
            " [31.03448276 31.03448276 27.93103448]]\n",
            "\n",
            "Reject the null hypothesis: There is a significant difference in job performance before and after the training.\n"
          ]
        }
      ]
    },
    {
      "cell_type": "code",
      "source": [
        "#  24. A company produces three different versions of a product: Standard, Premium, and Deluxe. The\n",
        "# company wants to determine if there is a significant difference in customer satisfaction scores among the\n",
        "# three product versions. They conducted a survey and collected customer satisfaction scores for each\n",
        "# version from a random sample of customers. Perform an ANOVA test to determine if there is a significant\n",
        "# difference in customer satisfaction scores.\n",
        "\n",
        "\n",
        "#   Use the following data:\n",
        "\n",
        "\n",
        "#   # Sample data: Customer satisfaction scores for each product version\n",
        "\n",
        "#   standard_scores = [80, 85, 90, 78, 88, 82, 92, 78, 85, 87]\n",
        "\n",
        "#   premium_scores = [90, 92, 88, 92, 95, 91, 96, 93, 89, 93]\n",
        "\n",
        "#   deluxe_scores = [95, 98, 92, 97, 96, 94, 98, 97, 92,99]\n",
        "\n",
        "from scipy.stats import f_oneway\n",
        "\n",
        "# Sample data: Customer satisfaction scores for each product version\n",
        "standard_scores = [80, 85, 90, 78, 88, 82, 92, 78, 85, 87]\n",
        "premium_scores = [90, 92, 88, 92, 95, 91, 96, 93, 89, 93]\n",
        "deluxe_scores = [95, 98, 92, 97, 96, 94, 98, 97, 92, 99]\n",
        "\n",
        "# Perform ANOVA test\n",
        "f_statistic, p_value = f_oneway(standard_scores, premium_scores, deluxe_scores)\n",
        "\n",
        "# Print results\n",
        "print(\"F-statistic:\", f_statistic)\n",
        "print(\"P-value:\", p_value)\n",
        "\n",
        "# Interpretation\n",
        "alpha = 0.05\n",
        "if p_value < alpha:\n",
        "    print(\"\\nReject the null hypothesis: There is a significant difference in satisfaction scores among the product versions.\")\n",
        "else:\n",
        "    print(\"\\nFail to reject the null hypothesis: No significant difference in satisfaction scores among the product versions.\")\n"
      ],
      "metadata": {
        "colab": {
          "base_uri": "https://localhost:8080/"
        },
        "id": "tr0ZVfeB0qOk",
        "outputId": "d66c2253-a1be-4e88-89d2-a475fe0f40df"
      },
      "execution_count": 25,
      "outputs": [
        {
          "output_type": "stream",
          "name": "stdout",
          "text": [
            "F-statistic: 27.03556231003039\n",
            "P-value: 3.5786328857349003e-07\n",
            "\n",
            "Reject the null hypothesis: There is a significant difference in satisfaction scores among the product versions.\n"
          ]
        }
      ]
    },
    {
      "cell_type": "code",
      "source": [],
      "metadata": {
        "id": "2k2o5E951HI3"
      },
      "execution_count": null,
      "outputs": []
    }
  ]
}